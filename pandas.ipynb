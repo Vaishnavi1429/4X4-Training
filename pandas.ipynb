{
 "cells": [
  {
   "cell_type": "code",
   "execution_count": 1,
   "metadata": {},
   "outputs": [],
   "source": [
    "import pandas as pd"
   ]
  },
  {
   "cell_type": "markdown",
   "metadata": {},
   "source": [
    "# Task 1: Load the dataset into a pandas DataFrame"
   ]
  },
  {
   "cell_type": "code",
   "execution_count": 2,
   "metadata": {},
   "outputs": [],
   "source": [
    "df = pd.read_csv('sales_data.csv')"
   ]
  },
  {
   "cell_type": "markdown",
   "metadata": {},
   "source": [
    "# Task 2: Display the first 5 rows of the DataFrame"
   ]
  },
  {
   "cell_type": "code",
   "execution_count": 3,
   "metadata": {},
   "outputs": [
    {
     "name": "stdout",
     "output_type": "stream",
     "text": [
      "First 5 rows of the DataFrame:\n",
      "   Order ID                     Product  Quantity Ordered  Price Each  \\\n",
      "0    176558        USB-C Charging Cable                 2       11.95   \n",
      "1    176559  Bose SoundSport Headphones                 1       99.99   \n",
      "2    176560                Google Phone                 1      600.00   \n",
      "3    176561            Wired Headphones                 3       11.99   \n",
      "4    176562    Lightning Charging Cable                 1       14.95   \n",
      "\n",
      "  Order Date         City  \n",
      "0  1/22/2023     New York  \n",
      "1  1/23/2023  Los Angeles  \n",
      "2  1/23/2023      Chicago  \n",
      "3  1/24/2023      Houston  \n",
      "4  1/24/2023     New York  \n"
     ]
    }
   ],
   "source": [
    "print(\"First 5 rows of the DataFrame:\")\n",
    "print(df.head())"
   ]
  },
  {
   "cell_type": "markdown",
   "metadata": {},
   "source": [
    "# Task 3: Check for any missing values in the dataset"
   ]
  },
  {
   "cell_type": "code",
   "execution_count": 5,
   "metadata": {},
   "outputs": [
    {
     "name": "stdout",
     "output_type": "stream",
     "text": [
      "Order ID            0\n",
      "Product             0\n",
      "Quantity Ordered    0\n",
      "Price Each          0\n",
      "Order Date          0\n",
      "City                0\n",
      "dtype: int64\n",
      "\n",
      "Missing values in the dataset:\n"
     ]
    }
   ],
   "source": [
    "print(df.isnull().sum())\n",
    "print(\"\\nMissing values in the dataset:\")"
   ]
  },
  {
   "cell_type": "markdown",
   "metadata": {},
   "source": [
    "# Task 4: Add a new column Total Sales that multiplies Quantity Ordered by Price Each"
   ]
  },
  {
   "cell_type": "code",
   "execution_count": 7,
   "metadata": {},
   "outputs": [
    {
     "name": "stdout",
     "output_type": "stream",
     "text": [
      "\n",
      "DataFrame with Total Sales column:\n",
      "   Order ID                     Product  Quantity Ordered  Price Each  \\\n",
      "0    176558        USB-C Charging Cable                 2       11.95   \n",
      "1    176559  Bose SoundSport Headphones                 1       99.99   \n",
      "2    176560                Google Phone                 1      600.00   \n",
      "3    176561            Wired Headphones                 3       11.99   \n",
      "4    176562    Lightning Charging Cable                 1       14.95   \n",
      "\n",
      "  Order Date         City  Total Sales  \n",
      "0  1/22/2023     New York        23.90  \n",
      "1  1/23/2023  Los Angeles        99.99  \n",
      "2  1/23/2023      Chicago       600.00  \n",
      "3  1/24/2023      Houston        35.97  \n",
      "4  1/24/2023     New York        14.95  \n"
     ]
    }
   ],
   "source": [
    "df['Quantity Ordered'] = pd.to_numeric(df['Quantity Ordered'], errors='coerce')  # Convert to numeric\n",
    "df['Price Each'] = pd.to_numeric(df['Price Each'], errors='coerce') \n",
    "df['Total Sales'] = df['Quantity Ordered'] * df['Price Each']\n",
    "\n",
    "# Print the DataFrame with the new Total Sales column\n",
    "print(\"\\nDataFrame with Total Sales column:\")\n",
    "print(df.head())"
   ]
  },
  {
   "cell_type": "markdown",
   "metadata": {},
   "source": [
    "# Task 5: Find the total sales for each city"
   ]
  },
  {
   "cell_type": "code",
   "execution_count": 8,
   "metadata": {},
   "outputs": [
    {
     "name": "stdout",
     "output_type": "stream",
     "text": [
      "\n",
      "Total Sales per City:\n",
      "            City  Total Sales\n",
      "0        Chicago      1800.00\n",
      "1        Houston       835.97\n",
      "2    Los Angeles       115.35\n",
      "3       New York        38.85\n",
      "4  San Francisco      1000.00\n"
     ]
    }
   ],
   "source": [
    "total_sales_per_city = df.groupby('City')['Total Sales'].sum().reset_index()\n",
    "print(\"\\nTotal Sales per City:\")\n",
    "print(total_sales_per_city)"
   ]
  },
  {
   "cell_type": "markdown",
   "metadata": {},
   "source": [
    "# Task 6: Identify the product with the highest total sales"
   ]
  },
  {
   "cell_type": "code",
   "execution_count": 9,
   "metadata": {},
   "outputs": [
    {
     "name": "stdout",
     "output_type": "stream",
     "text": [
      "\n",
      "Product with the highest total sales:\n",
      "ThinkPad Laptop\n"
     ]
    }
   ],
   "source": [
    "total_sales_per_product = df.groupby('Product')['Total Sales'].sum()\n",
    "product_with_highest_sales = total_sales_per_product.idxmax()\n",
    "print(\"\\nProduct with the highest total sales:\")\n",
    "print(product_with_highest_sales)"
   ]
  }
 ],
 "metadata": {
  "kernelspec": {
   "display_name": "Python 3",
   "language": "python",
   "name": "python3"
  },
  "language_info": {
   "codemirror_mode": {
    "name": "ipython",
    "version": 3
   },
   "file_extension": ".py",
   "mimetype": "text/x-python",
   "name": "python",
   "nbconvert_exporter": "python",
   "pygments_lexer": "ipython3",
   "version": "3.12.7"
  }
 },
 "nbformat": 4,
 "nbformat_minor": 2
}
